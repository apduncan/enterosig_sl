{
 "cells": [
  {
   "cell_type": "code",
   "execution_count": 1,
   "id": "6ab63698-3b29-433e-a1bb-b4afdbd6d127",
   "metadata": {},
   "outputs": [
    {
     "ename": "ModuleNotFoundError",
     "evalue": "No module named 'distutils'",
     "output_type": "error",
     "traceback": [
      "\u001b[0;31m---------------------------------------------------------------------------\u001b[0m",
      "\u001b[0;31mModuleNotFoundError\u001b[0m                       Traceback (most recent call last)",
      "Cell \u001b[0;32mIn[1], line 1\u001b[0m\n\u001b[0;32m----> 1\u001b[0m \u001b[38;5;28;01mfrom\u001b[39;00m \u001b[38;5;21;01menterosig\u001b[39;00m\u001b[38;5;21;01m.\u001b[39;00m\u001b[38;5;21;01mdenovo\u001b[39;00m \u001b[38;5;28;01mimport\u001b[39;00m rank_selection, decompositions, plot_rank_selection\n\u001b[1;32m      2\u001b[0m \u001b[38;5;28;01mimport\u001b[39;00m \u001b[38;5;21;01mpandas\u001b[39;00m \u001b[38;5;28;01mas\u001b[39;00m \u001b[38;5;21;01mpd\u001b[39;00m\n\u001b[1;32m      3\u001b[0m \u001b[38;5;28;01mimport\u001b[39;00m \u001b[38;5;21;01mlogging\u001b[39;00m\n",
      "File \u001b[0;32m~/Documents/repos/enterosig_sl/src/enterosig/denovo.py:34\u001b[0m\n\u001b[1;32m     32\u001b[0m \u001b[38;5;28;01mimport\u001b[39;00m \u001b[38;5;21;01mnumpy\u001b[39;00m \u001b[38;5;28;01mas\u001b[39;00m \u001b[38;5;21;01mnp\u001b[39;00m\n\u001b[1;32m     33\u001b[0m \u001b[38;5;28;01mimport\u001b[39;00m \u001b[38;5;21;01mpandas\u001b[39;00m \u001b[38;5;28;01mas\u001b[39;00m \u001b[38;5;21;01mpd\u001b[39;00m\n\u001b[0;32m---> 34\u001b[0m \u001b[38;5;28;01mimport\u001b[39;00m \u001b[38;5;21;01mpatchworklib\u001b[39;00m \u001b[38;5;28;01mas\u001b[39;00m \u001b[38;5;21;01mpw\u001b[39;00m\n\u001b[1;32m     35\u001b[0m \u001b[38;5;28;01mimport\u001b[39;00m \u001b[38;5;21;01mplotnine\u001b[39;00m\n\u001b[1;32m     36\u001b[0m \u001b[38;5;28;01mimport\u001b[39;00m \u001b[38;5;21;01msklearn\u001b[39;00m\n",
      "File \u001b[0;32m~/Library/Caches/pypoetry/virtualenvs/enterosig-gRusjwi9-py3.12/lib/python3.12/site-packages/patchworklib/__init__.py:1\u001b[0m\n\u001b[0;32m----> 1\u001b[0m \u001b[38;5;28;01mfrom\u001b[39;00m \u001b[38;5;21;01m.\u001b[39;00m\u001b[38;5;21;01mpatchworklib\u001b[39;00m \u001b[38;5;28;01mimport\u001b[39;00m \u001b[38;5;241m*\u001b[39m\n\u001b[1;32m      2\u001b[0m __version__ \u001b[38;5;241m=\u001b[39m \u001b[38;5;124m\"\u001b[39m\u001b[38;5;124m0.6.3\u001b[39m\u001b[38;5;124m\"\u001b[39m\n",
      "File \u001b[0;32m~/Library/Caches/pypoetry/virtualenvs/enterosig-gRusjwi9-py3.12/lib/python3.12/site-packages/patchworklib/patchworklib.py:11\u001b[0m\n\u001b[1;32m      9\u001b[0m \u001b[38;5;28;01mimport\u001b[39;00m \u001b[38;5;21;01mwarnings\u001b[39;00m \n\u001b[1;32m     10\u001b[0m \u001b[38;5;28;01mfrom\u001b[39;00m \u001b[38;5;21;01mmath\u001b[39;00m \u001b[38;5;28;01mimport\u001b[39;00m log10 , floor\n\u001b[0;32m---> 11\u001b[0m \u001b[38;5;28;01mfrom\u001b[39;00m \u001b[38;5;21;01mdistutils\u001b[39;00m\u001b[38;5;21;01m.\u001b[39;00m\u001b[38;5;21;01mversion\u001b[39;00m \u001b[38;5;28;01mimport\u001b[39;00m LooseVersion, StrictVersion\n\u001b[1;32m     13\u001b[0m \u001b[38;5;28;01mimport\u001b[39;00m \u001b[38;5;21;01mmatplotlib\u001b[39;00m\n\u001b[1;32m     14\u001b[0m \u001b[38;5;28;01mimport\u001b[39;00m \u001b[38;5;21;01mmatplotlib\u001b[39;00m\u001b[38;5;21;01m.\u001b[39;00m\u001b[38;5;21;01mfont_manager\u001b[39;00m \u001b[38;5;28;01mas\u001b[39;00m \u001b[38;5;21;01mfm\u001b[39;00m\n",
      "\u001b[0;31mModuleNotFoundError\u001b[0m: No module named 'distutils'"
     ]
    }
   ],
   "source": [
    "from enterosig.denovo import rank_selection, decompositions, plot_rank_selection\n",
    "import pandas as pd\n",
    "import logging"
   ]
  },
  {
   "cell_type": "markdown",
   "id": "098d43a7-0e2f-436b-bf58-622173404b68",
   "metadata": {},
   "source": [
    "## Read Gut Cell Atlas data"
   ]
  },
  {
   "cell_type": "code",
   "execution_count": null,
   "id": "e8cff092-4cac-49e5-b686-ae4d7e00e5e8",
   "metadata": {},
   "outputs": [],
   "source": [
    "gca = pd.read_csv(\"/Users/pez23lof/Documents/cellgen/gut_cell_atlas/gca_cell_tables/count.tsv\",\n",
    "                  index_col=0,\n",
    "                  sep=\"\\t\")\n",
    "print(gca.shape)\n",
    "gca.head()"
   ]
  },
  {
   "cell_type": "code",
   "execution_count": null,
   "id": "3c2357d4-b42a-44c7-aa4e-5e3c9fec8a28",
   "metadata": {},
   "outputs": [],
   "source": [
    "gca_meta = pd.read_csv(\"/Users/pez23lof/Documents/cellgen/gut_cell_atlas/gca_cell_tables/sample_metadata.tsv\",\n",
    "                       sep=\"\\t\",\n",
    "                       index_col=0)\n",
    "# Reorder to match cell table ordering\n",
    "gca_meta = gca_meta.loc[gca.columns]\n",
    "gca_meta.head()\n",
    "assert gca_meta.shape[0] == gca.shape[1], \"Data and metadata dimensions do not match\""
   ]
  },
  {
   "cell_type": "markdown",
   "id": "0326868d-fdf4-48d7-8269-470258412bae",
   "metadata": {},
   "source": [
    "## Rank Selection"
   ]
  },
  {
   "cell_type": "code",
   "execution_count": null,
   "id": "afb36872-59bf-4825-838d-313d6d5f73c8",
   "metadata": {},
   "outputs": [],
   "source": [
    "rank_sel_results = rank_selection(x=gca,\n",
    "                                  ranks=list(range(6, 13)),\n",
    "                                  shuffles=50,\n",
    "                                  seed=4298)"
   ]
  },
  {
   "cell_type": "code",
   "execution_count": null,
   "id": "ec1d76a1-da1a-419c-bf06-d19f542e61b2",
   "metadata": {},
   "outputs": [],
   "source": [
    "plt_f = plot_rank_selection(\n",
    "    rank_sel_results,\n",
    "    jitter=False,\n",
    "    n_col=2, exclude=['l2_norm', 'sparsity_h', 'sparsity_w']\n",
    ").draw()\n",
    "plt_f.set_size_inches(8, 6)\n",
    "plt_f"
   ]
  },
  {
   "cell_type": "markdown",
   "id": "46a0d8df-5597-4358-be14-b832831dc915",
   "metadata": {},
   "source": [
    "## Examine decompositions"
   ]
  },
  {
   "cell_type": "code",
   "execution_count": null,
   "id": "b91f7779-bfa5-4bc6-831a-46610a3331ee",
   "metadata": {},
   "outputs": [],
   "source": [
    "decomps = decompositions(\n",
    "    x=gca,\n",
    "    ranks=[6, 7, 8, 9],\n",
    "    random_starts=20,\n",
    "    seed=4298\n",
    ")\n",
    "best_decomp = decomps[8][0]"
   ]
  },
  {
   "cell_type": "code",
   "execution_count": null,
   "id": "bd102db8-b9a4-45a3-a402-d400a54a58c4",
   "metadata": {
    "editable": true,
    "slideshow": {
     "slide_type": ""
    },
    "tags": []
   },
   "outputs": [],
   "source": [
    "best_decomp.plot_modelfit(gca_meta['diagnosis'])"
   ]
  },
  {
   "cell_type": "code",
   "execution_count": null,
   "id": "b0804e16-5479-4eba-b697-ee5b96ac43f3",
   "metadata": {},
   "outputs": [],
   "source": [
    "plt_ra = best_decomp.plot_relative_weight().draw()\n",
    "plt_ra.set_size_inches(10, 6)\n",
    "plt_ra"
   ]
  },
  {
   "cell_type": "code",
   "execution_count": null,
   "id": "3bc45f48-d65e-4cac-8a15-73acb7c7e4e5",
   "metadata": {},
   "outputs": [],
   "source": [
    "best_decomp.plot_pcoa()"
   ]
  },
  {
   "cell_type": "code",
   "execution_count": null,
   "id": "be8c030e-d30c-4255-a58b-a68709c066f8",
   "metadata": {},
   "outputs": [],
   "source": [
    "best_decomp.representative_signatures(threshold=0.9)"
   ]
  },
  {
   "cell_type": "code",
   "execution_count": null,
   "id": "9da2248a-e8bd-4370-8825-70952a9a9ed8",
   "metadata": {},
   "outputs": [],
   "source": [
    "best_decomp.monodominant_samples(threshold=0.9)"
   ]
  }
 ],
 "metadata": {
  "kernelspec": {
   "display_name": "Python 3 (ipykernel)",
   "language": "python",
   "name": "python3"
  },
  "language_info": {
   "codemirror_mode": {
    "name": "ipython",
    "version": 3
   },
   "file_extension": ".py",
   "mimetype": "text/x-python",
   "name": "python",
   "nbconvert_exporter": "python",
   "pygments_lexer": "ipython3",
   "version": "3.12.0"
  }
 },
 "nbformat": 4,
 "nbformat_minor": 5
}
